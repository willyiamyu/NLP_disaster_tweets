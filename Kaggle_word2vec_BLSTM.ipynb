{
  "nbformat": 4,
  "nbformat_minor": 0,
  "metadata": {
    "colab": {
      "name": "Kaggle_word2vec_BLSTM.ipynb",
      "provenance": [],
      "machine_shape": "hm"
    },
    "kernelspec": {
      "name": "python3",
      "display_name": "Python 3"
    },
    "accelerator": "GPU"
  },
  "cells": [
    {
      "cell_type": "code",
      "metadata": {
        "id": "0EpYB_35ccHz"
      },
      "source": [
        "import tensorflow as tf \n",
        "from tensorflow import keras\n",
        "from tensorflow.keras.models import Model, Sequential\n",
        "from tensorflow.keras import layers\n",
        "import pandas as pd\n",
        "import numpy as np\n",
        "from google.colab import drive\n",
        "import matplotlib.image as mpimg\n",
        "import matplotlib.pyplot as plt\n",
        "import random\n",
        "import re"
      ],
      "execution_count": null,
      "outputs": []
    },
    {
      "cell_type": "code",
      "metadata": {
        "colab": {
          "base_uri": "https://localhost:8080/"
        },
        "id": "xJCE-gfzcmhN",
        "outputId": "c8ee7cdd-e722-423c-ce1f-41fdc0ba96d6"
      },
      "source": [
        "drive.mount('/gdrive')\n",
        "drive_root = '/gdrive/My Drive/'"
      ],
      "execution_count": null,
      "outputs": [
        {
          "output_type": "stream",
          "text": [
            "Drive already mounted at /gdrive; to attempt to forcibly remount, call drive.mount(\"/gdrive\", force_remount=True).\n"
          ],
          "name": "stdout"
        }
      ]
    },
    {
      "cell_type": "code",
      "metadata": {
        "colab": {
          "base_uri": "https://localhost:8080/"
        },
        "id": "2y3TIqi4cwoW",
        "outputId": "e6b9bac3-b8c8-4f3d-b896-b0237d3160c0"
      },
      "source": [
        "%cd ..\n",
        "%cd gdrive/MyDrive/disaster_nlp"
      ],
      "execution_count": null,
      "outputs": [
        {
          "output_type": "stream",
          "text": [
            "/\n",
            "/gdrive/MyDrive/disaster_nlp\n"
          ],
          "name": "stdout"
        }
      ]
    },
    {
      "cell_type": "code",
      "metadata": {
        "colab": {
          "base_uri": "https://localhost:8080/",
          "height": 204
        },
        "id": "5GmJl2Yecd6o",
        "outputId": "2fbd16f7-4353-41ac-e46e-6ecc5e9fcab2"
      },
      "source": [
        "# import train and test data\n",
        "train = pd.read_csv('train.csv')\n",
        "test = pd.read_csv('test.csv')\n",
        "\n",
        "ids = test.id\n",
        "train.head()"
      ],
      "execution_count": null,
      "outputs": [
        {
          "output_type": "execute_result",
          "data": {
            "text/html": [
              "<div>\n",
              "<style scoped>\n",
              "    .dataframe tbody tr th:only-of-type {\n",
              "        vertical-align: middle;\n",
              "    }\n",
              "\n",
              "    .dataframe tbody tr th {\n",
              "        vertical-align: top;\n",
              "    }\n",
              "\n",
              "    .dataframe thead th {\n",
              "        text-align: right;\n",
              "    }\n",
              "</style>\n",
              "<table border=\"1\" class=\"dataframe\">\n",
              "  <thead>\n",
              "    <tr style=\"text-align: right;\">\n",
              "      <th></th>\n",
              "      <th>id</th>\n",
              "      <th>keyword</th>\n",
              "      <th>location</th>\n",
              "      <th>text</th>\n",
              "      <th>target</th>\n",
              "    </tr>\n",
              "  </thead>\n",
              "  <tbody>\n",
              "    <tr>\n",
              "      <th>0</th>\n",
              "      <td>1</td>\n",
              "      <td>NaN</td>\n",
              "      <td>NaN</td>\n",
              "      <td>Our Deeds are the Reason of this #earthquake M...</td>\n",
              "      <td>1</td>\n",
              "    </tr>\n",
              "    <tr>\n",
              "      <th>1</th>\n",
              "      <td>4</td>\n",
              "      <td>NaN</td>\n",
              "      <td>NaN</td>\n",
              "      <td>Forest fire near La Ronge Sask. Canada</td>\n",
              "      <td>1</td>\n",
              "    </tr>\n",
              "    <tr>\n",
              "      <th>2</th>\n",
              "      <td>5</td>\n",
              "      <td>NaN</td>\n",
              "      <td>NaN</td>\n",
              "      <td>All residents asked to 'shelter in place' are ...</td>\n",
              "      <td>1</td>\n",
              "    </tr>\n",
              "    <tr>\n",
              "      <th>3</th>\n",
              "      <td>6</td>\n",
              "      <td>NaN</td>\n",
              "      <td>NaN</td>\n",
              "      <td>13,000 people receive #wildfires evacuation or...</td>\n",
              "      <td>1</td>\n",
              "    </tr>\n",
              "    <tr>\n",
              "      <th>4</th>\n",
              "      <td>7</td>\n",
              "      <td>NaN</td>\n",
              "      <td>NaN</td>\n",
              "      <td>Just got sent this photo from Ruby #Alaska as ...</td>\n",
              "      <td>1</td>\n",
              "    </tr>\n",
              "  </tbody>\n",
              "</table>\n",
              "</div>"
            ],
            "text/plain": [
              "   id keyword  ...                                               text target\n",
              "0   1     NaN  ...  Our Deeds are the Reason of this #earthquake M...      1\n",
              "1   4     NaN  ...             Forest fire near La Ronge Sask. Canada      1\n",
              "2   5     NaN  ...  All residents asked to 'shelter in place' are ...      1\n",
              "3   6     NaN  ...  13,000 people receive #wildfires evacuation or...      1\n",
              "4   7     NaN  ...  Just got sent this photo from Ruby #Alaska as ...      1\n",
              "\n",
              "[5 rows x 5 columns]"
            ]
          },
          "metadata": {
            "tags": []
          },
          "execution_count": 4
        }
      ]
    },
    {
      "cell_type": "code",
      "metadata": {
        "id": "ZS8mOjcGcfWL"
      },
      "source": [
        "# function to remove html tags in text\n",
        "def htmlremove(text):\n",
        "    return re.sub('<[^<]+?>', '', text)\n",
        "\n",
        "train['text'] = train['text'].apply(htmlremove)\n",
        "test['text'] = test['text'].apply(htmlremove)  "
      ],
      "execution_count": null,
      "outputs": []
    },
    {
      "cell_type": "code",
      "metadata": {
        "id": "MCrr7HdVdu3d"
      },
      "source": [
        "# remove url and @'s\n",
        "def urlremove(text):\n",
        "    return re.sub(r\"(?:\\@|https?\\://)\\S+\", \"\", text)\n",
        "\n",
        "train['text'] = train['text'].apply(urlremove)\n",
        "test['text'] = test['text'].apply(urlremove)"
      ],
      "execution_count": null,
      "outputs": []
    },
    {
      "cell_type": "code",
      "metadata": {
        "id": "hanQf-k7dxq4"
      },
      "source": [
        "# remove emojis\n",
        "# https://stackoverflow.com/questions/33404752/removing-emojis-from-a-string-in-python\n",
        "def remove_emoji(text):\n",
        "    emoji_pattern = re.compile(\n",
        "        u\"(\\ud83d[\\ude00-\\ude4f])|\"  # emoticons\n",
        "        u\"(\\ud83c[\\udf00-\\uffff])|\"  # symbols & pictographs (1 of 2)\n",
        "        u\"(\\ud83d[\\u0000-\\uddff])|\"  # symbols & pictographs (2 of 2)\n",
        "        u\"(\\ud83d[\\ude80-\\udeff])|\"  # transport & map symbols\n",
        "        u\"(\\ud83c[\\udde0-\\uddff])\"  # flags (iOS)\n",
        "        \"+\", flags=re.UNICODE)\n",
        "    return emoji_pattern.sub(r'', text)\n",
        "\n",
        "train['text'] = train['text'].apply(remove_emoji)\n",
        "test['text'] = test['text'].apply(remove_emoji)"
      ],
      "execution_count": null,
      "outputs": []
    },
    {
      "cell_type": "code",
      "metadata": {
        "id": "GI-ro6CDdzOu"
      },
      "source": [
        "# remove contractions\n",
        "# taken from: https://stackoverflow.com/questions/19790188/expanding-english-language-contractions-in-python\n",
        "def decontracted(text):\n",
        "    if '’' in text:\n",
        "        text = text.replace(\"’\", \"'\")\n",
        "    # specific\n",
        "    text = re.sub(r\"won\\'t\", \"will not\", text)\n",
        "    text = re.sub(r\"can\\'t\", \"can not\", text)\n",
        "\n",
        "    # general\n",
        "    text = re.sub(r\"n\\'t\", \" not\", text)\n",
        "    text = re.sub(r\"\\'re\", \" are\", text)\n",
        "    text = re.sub(r\"\\'s\", \" is\", text)\n",
        "    text = re.sub(r\"\\'d\", \" would\", text)\n",
        "    text = re.sub(r\"\\'ll\", \" will\", text)\n",
        "    text = re.sub(r\"\\'t\", \" not\", text)\n",
        "    text = re.sub(r\"\\'ve\", \" have\", text)\n",
        "    text = re.sub(r\"\\'m\", \" am\", text)\n",
        "    return text\n",
        "\n",
        "train['text'] = train['text'].apply(decontracted)\n",
        "test['text'] = test['text'].apply(decontracted)"
      ],
      "execution_count": null,
      "outputs": []
    },
    {
      "cell_type": "code",
      "metadata": {
        "id": "hbjrpPC-d0uu"
      },
      "source": [
        "# remove special characters\n",
        "def characterremove(text):\n",
        "    return re.sub('\\W+|_', ' ', text)\n",
        "\n",
        "train.text = train.text.apply(characterremove)\n",
        "test.text = test.text.apply(characterremove)"
      ],
      "execution_count": null,
      "outputs": []
    },
    {
      "cell_type": "code",
      "metadata": {
        "id": "IhuAFOBcd3WC"
      },
      "source": [
        "# remove numbers in text\n",
        "def remove_numbers(text):\n",
        "    # define the pattern to keep\n",
        "    pattern = r'[^a-zA-z.,!?/:;\\\"\\'\\s]' \n",
        "    return re.sub(pattern, '', text)\n",
        "\n",
        "train.text = train.text.apply(remove_numbers)\n",
        "test.text = test.text.apply(remove_numbers)"
      ],
      "execution_count": null,
      "outputs": []
    },
    {
      "cell_type": "code",
      "metadata": {
        "id": "fFO0leP4d5IT"
      },
      "source": [
        "train.text = train.text.str.lower()\n",
        "train.text = train.text.str.strip()\n",
        "\n",
        "test.text = test.text.str.lower()\n",
        "test.text = test.text.str.strip()"
      ],
      "execution_count": null,
      "outputs": []
    },
    {
      "cell_type": "code",
      "metadata": {
        "colab": {
          "base_uri": "https://localhost:8080/"
        },
        "id": "99HNNgBZeAfG",
        "outputId": "dcb265c9-aaad-473f-f86d-a28b7d729275"
      },
      "source": [
        "from nltk.stem import WordNetLemmatizer\n",
        "from nltk.corpus import stopwords\n",
        "import nltk\n",
        "\n",
        "nltk.download('wordnet')\n",
        "nltk.download('stopwords')\n",
        "\n",
        "stop_words = set(stopwords.words('english'))  \n",
        "lemmer = WordNetLemmatizer()\n",
        "train.text = [' '.join([lemmer.lemmatize(word) for word in text.split(' ') if word not in stop_words]) for text in train.text]\n",
        "\n",
        "test.text = [' '.join([lemmer.lemmatize(word) for word in text.split(' ') if word not in stop_words]) for text in test.text]"
      ],
      "execution_count": null,
      "outputs": [
        {
          "output_type": "stream",
          "text": [
            "[nltk_data] Downloading package wordnet to /root/nltk_data...\n",
            "[nltk_data]   Package wordnet is already up-to-date!\n",
            "[nltk_data] Downloading package stopwords to /root/nltk_data...\n",
            "[nltk_data]   Package stopwords is already up-to-date!\n"
          ],
          "name": "stdout"
        }
      ]
    },
    {
      "cell_type": "code",
      "metadata": {
        "colab": {
          "base_uri": "https://localhost:8080/",
          "height": 314
        },
        "id": "M604cDx7fYRq",
        "outputId": "80e4788e-f76c-4f5e-9a6b-30e103902a46"
      },
      "source": [
        "lens = []\n",
        "for tweet in train.text:\n",
        "  lens.append(len(tweet))\n",
        "\n",
        "plt.hist(lens, bins='auto')\n",
        "plt.title('Tweet Length Distribution')\n",
        "plt.tight_layout()\n",
        "print('average tweet length: {}'.format(np.mean(lens)))"
      ],
      "execution_count": null,
      "outputs": [
        {
          "output_type": "stream",
          "text": [
            "average tweet length: 58.47773545251543\n"
          ],
          "name": "stdout"
        },
        {
          "output_type": "display_data",
          "data": {
            "image/png": "[encoded data removed]",
            "text/plain": [
              "<Figure size 432x288 with 1 Axes>"
            ]
          },
          "metadata": {
            "tags": [],
            "needs_background": "light"
          }
        }
      ]
    },
    {
      "cell_type": "code",
      "metadata": {
        "colab": {
          "base_uri": "https://localhost:8080/"
        },
        "id": "bcBydPI3d79l",
        "outputId": "780fa402-9fac-4f4e-c372-a9eae7048da7"
      },
      "source": [
        "MAX_LEN = 70\n",
        "BUFFER_SIZE = 10000\n",
        "BATCH_SIZE = 4\n",
        "tokenizer = tf.keras.preprocessing.text.Tokenizer(num_words=5000, filters='!\"#$%&()*+,-./:;<=>?@[\\]^_`{|}~')\n",
        "tokenizer.fit_on_texts(train.text)\n",
        "word_index = tokenizer.word_index\n",
        "print('Found %s unique tokens.' % len(word_index))"
      ],
      "execution_count": null,
      "outputs": [
        {
          "output_type": "stream",
          "text": [
            "Found 12741 unique tokens.\n"
          ],
          "name": "stdout"
        }
      ]
    },
    {
      "cell_type": "code",
      "metadata": {
        "colab": {
          "base_uri": "https://localhost:8080/"
        },
        "id": "PC39VMdFjYDy",
        "outputId": "ac132744-474c-445a-9686-4bb07c765ab2"
      },
      "source": [
        "X = tokenizer.texts_to_sequences(train.text)\n",
        "X = tf.keras.preprocessing.sequence.pad_sequences(X, padding='pre', maxlen=MAX_LEN)\n",
        "y = np.asarray(train.target).astype('float32').reshape((-1,1))\n",
        "X[0]"
      ],
      "execution_count": null,
      "outputs": [
        {
          "output_type": "execute_result",
          "data": {
            "text/plain": [
              "array([   0,    0,    0,    0,    0,    0,    0,    0,    0,    0,    0,\n",
              "          0,    0,    0,    0,    0,    0,    0,    0,    0,    0,    0,\n",
              "          0,    0,    0,    0,    0,    0,    0,    0,    0,    0,    0,\n",
              "          0,    0,    0,    0,    0,    0,    0,    0,    0,    0,    0,\n",
              "          0,    0,    0,    0,    0,    0,    0,    0,    0,    0,    0,\n",
              "          0,    0,    0,    0,    0,    0,    0,    0, 3892,  461,  162,\n",
              "         73, 1399, 3893,    4], dtype=int32)"
            ]
          },
          "metadata": {
            "tags": []
          },
          "execution_count": 15
        }
      ]
    },
    {
      "cell_type": "code",
      "metadata": {
        "id": "47_Vf0aK4vzz"
      },
      "source": [
        "data = tf.data.Dataset.from_tensor_slices((X, y))\n",
        "data = data.shuffle(buffer_size= BUFFER_SIZE, reshuffle_each_iteration=False).batch(BATCH_SIZE, drop_remainder=True)"
      ],
      "execution_count": null,
      "outputs": []
    },
    {
      "cell_type": "code",
      "metadata": {
        "colab": {
          "base_uri": "https://localhost:8080/"
        },
        "id": "9V905jgDeUGw",
        "outputId": "a685ca58-863b-461a-943c-87b418e77518"
      },
      "source": [
        "EMBEDDING_FILE = '/root/input/GoogleNews-vectors-negative300.bin.gz'\n",
        "!wget -P /root/input/ -c \"https://s3.amazonaws.com/dl4j-distribution/GoogleNews-vectors-negative300.bin.gz\""
      ],
      "execution_count": null,
      "outputs": [
        {
          "output_type": "stream",
          "text": [
            "--2021-01-31 22:49:39--  https://s3.amazonaws.com/dl4j-distribution/GoogleNews-vectors-negative300.bin.gz\n",
            "Resolving s3.amazonaws.com (s3.amazonaws.com)... 52.217.1.246\n",
            "Connecting to s3.amazonaws.com (s3.amazonaws.com)|52.217.1.246|:443... connected.\n",
            "HTTP request sent, awaiting response... 416 Requested Range Not Satisfiable\n",
            "\n",
            "    The file is already fully retrieved; nothing to do.\n",
            "\n"
          ],
          "name": "stdout"
        }
      ]
    },
    {
      "cell_type": "code",
      "metadata": {
        "id": "US5lXgabevrp"
      },
      "source": [
        "from gensim.models import KeyedVectors\n",
        "word2vec = KeyedVectors.load_word2vec_format(EMBEDDING_FILE, binary=True)"
      ],
      "execution_count": null,
      "outputs": []
    },
    {
      "cell_type": "code",
      "metadata": {
        "id": "nwg2chHEl0qa"
      },
      "source": [
        "VOCAB_SIZE = len(word_index)+1 \n",
        "EMBEDDING_DIM = 300\n",
        "embedding_matrix = np.zeros((VOCAB_SIZE, EMBEDDING_DIM))\n",
        "for word, index in word_index.items():\n",
        "  try:\n",
        "    embedding_vector = word2vec[word]\n",
        "    embedding_matrix[index] = embedding_vector\n",
        "  except:\n",
        "    continue"
      ],
      "execution_count": null,
      "outputs": []
    },
    {
      "cell_type": "code",
      "metadata": {
        "colab": {
          "base_uri": "https://localhost:8080/"
        },
        "id": "jQlnBIb0nzDP",
        "outputId": "89a45b2d-7f78-4acc-d8ec-37ee068932f9"
      },
      "source": [
        "embedding_matrix.shape"
      ],
      "execution_count": null,
      "outputs": [
        {
          "output_type": "execute_result",
          "data": {
            "text/plain": [
              "(12742, 300)"
            ]
          },
          "metadata": {
            "tags": []
          },
          "execution_count": 20
        }
      ]
    },
    {
      "cell_type": "code",
      "metadata": {
        "id": "N4nJE-JNeWHO"
      },
      "source": [
        "TRAIN_SIZE = int(0.85 * (len(X)//BATCH_SIZE))\n",
        "data = data.shuffle(buffer_size= BUFFER_SIZE, reshuffle_each_iteration=False)\n",
        "train_data = data.take(TRAIN_SIZE)\n",
        "val_data = data.skip(TRAIN_SIZE)\n"
      ],
      "execution_count": null,
      "outputs": []
    },
    {
      "cell_type": "code",
      "metadata": {
        "colab": {
          "base_uri": "https://localhost:8080/"
        },
        "id": "4ZBA9Is8wMOH",
        "outputId": "1a987216-22f7-47e1-e051-8c893c8ec54d"
      },
      "source": [
        "  def build_model(batch_size, dropout):\n",
        "    model = Sequential()\n",
        "    model.add(layers.Embedding(input_dim=embedding_matrix.shape[0], \n",
        "                    output_dim=embedding_matrix.shape[1], \n",
        "                    weights = [embedding_matrix], \n",
        "                    input_length=MAX_LEN, batch_size=batch_size))\n",
        "    # model.add(layers.Embedding(input_dim=len(word_index)+1, output_dim=128, input_length=MAX_LEN, batch_size=batch_size))\n",
        "    # model.add(layers.Conv1D(filters=32, kernel_size=3, padding='same', activation='relu'))\n",
        "    # model.add(layers.MaxPooling1D(pool_size=2, padding='same'))\n",
        "    model.add(layers.Bidirectional(layers.LSTM(64, return_sequences=True, recurrent_dropout=0.2)))\n",
        "    model.add(layers.Dropout(dropout))\n",
        "    model.add(layers.Bidirectional(layers.LSTM(64)))\n",
        "    model.add(layers.Dropout(dropout))\n",
        "    model.add(layers.Dense(1, activation='sigmoid'))\n",
        "\n",
        "    return model\n",
        "\n",
        "  \n",
        "model = build_model(BATCH_SIZE, 0.5)\n",
        "model.summary()"
      ],
      "execution_count": null,
      "outputs": [
        {
          "output_type": "stream",
          "text": [
            "WARNING:tensorflow:Layer lstm will not use cuDNN kernel since it doesn't meet the cuDNN kernel criteria. It will use generic GPU kernel as fallback when running on GPU\n",
            "WARNING:tensorflow:Layer lstm will not use cuDNN kernel since it doesn't meet the cuDNN kernel criteria. It will use generic GPU kernel as fallback when running on GPU\n",
            "WARNING:tensorflow:Layer lstm will not use cuDNN kernel since it doesn't meet the cuDNN kernel criteria. It will use generic GPU kernel as fallback when running on GPU\n",
            "Model: \"sequential\"\n",
            "_________________________________________________________________\n",
            "Layer (type)                 Output Shape              Param #   \n",
            "=================================================================\n",
            "embedding (Embedding)        (4, 70, 300)              3822600   \n",
            "_________________________________________________________________\n",
            "bidirectional (Bidirectional (4, 70, 128)              186880    \n",
            "_________________________________________________________________\n",
            "dropout (Dropout)            (4, 70, 128)              0         \n",
            "_________________________________________________________________\n",
            "bidirectional_1 (Bidirection (4, 128)                  98816     \n",
            "_________________________________________________________________\n",
            "dropout_1 (Dropout)          (4, 128)                  0         \n",
            "_________________________________________________________________\n",
            "dense (Dense)                (4, 1)                    129       \n",
            "=================================================================\n",
            "Total params: 4,108,425\n",
            "Trainable params: 4,108,425\n",
            "Non-trainable params: 0\n",
            "_________________________________________________________________\n"
          ],
          "name": "stdout"
        }
      ]
    },
    {
      "cell_type": "code",
      "metadata": {
        "colab": {
          "base_uri": "https://localhost:8080/"
        },
        "id": "W6u1OTYl0XFE",
        "outputId": "a14eb612-30fc-41bf-d5e7-0a4770772338"
      },
      "source": [
        "epochs = 5              \n",
        "# def perplexity(labels, preds):\n",
        "#     return keras.backend.exp(tf.keras.losses.categorical_crossentropy(labels, preds))\n",
        "\n",
        "def loss(labels, logits):\n",
        "  return tf.keras.losses.binary_crossentropy(labels, logits)\n",
        "\n",
        "optimizer = tf.keras.optimizers.RMSprop(learning_rate=5e-5, epsilon=1e-8)\n",
        "  \n",
        "model.compile(optimizer=optimizer, loss=loss, metrics=['accuracy']) \n",
        "\n",
        "history = model.fit(train_data, epochs=epochs, validation_data=val_data)"
      ],
      "execution_count": null,
      "outputs": [
        {
          "output_type": "stream",
          "text": [
            "Epoch 1/5\n",
            "1617/1617 [==============================] - 317s 192ms/step - loss: 0.6338 - accuracy: 0.6544 - val_loss: 0.4578 - val_accuracy: 0.8007\n",
            "Epoch 2/5\n",
            "1617/1617 [==============================] - 309s 191ms/step - loss: 0.4829 - accuracy: 0.7844 - val_loss: 0.4336 - val_accuracy: 0.8147\n",
            "Epoch 3/5\n",
            "1617/1617 [==============================] - 313s 193ms/step - loss: 0.4549 - accuracy: 0.7989 - val_loss: 0.4237 - val_accuracy: 0.8191\n",
            "Epoch 4/5\n",
            "1617/1617 [==============================] - 311s 192ms/step - loss: 0.4367 - accuracy: 0.8075 - val_loss: 0.4211 - val_accuracy: 0.8287\n",
            "Epoch 5/5\n",
            "1617/1617 [==============================] - 311s 192ms/step - loss: 0.4223 - accuracy: 0.8194 - val_loss: 0.4209 - val_accuracy: 0.8295\n"
          ],
          "name": "stdout"
        }
      ]
    },
    {
      "cell_type": "code",
      "metadata": {
        "colab": {
          "base_uri": "https://localhost:8080/"
        },
        "id": "vWcyZyF3Vca_",
        "outputId": "ce2a846f-dfe4-41e9-a733-e3f072440404"
      },
      "source": [
        "fig, ax = plt.subplots(1, 2, figsize=(15, 5))\n",
        "ax[0].plot(range(1, epochs+1), history.history['loss'], label='loss')\n",
        "ax[0].plot(range(1, epochs+1), history.history['val_loss'], label='val_loss')\n",
        "ax[0].legend()\n",
        "ax[0].set_xlabel('Epochs')\n",
        "ax[0].set_title('Loss')\n",
        "\n",
        "ax[1].plot(range(1, epochs+1), history.history['accuracy'], label='accuracy')\n",
        "ax[1].plot(range(1, epochs+1), history.history['val_accuracy'], label='val_accuracy')\n",
        "ax[1].legend()\n",
        "ax[1].set_xlabel('Epochs')\n",
        "ax[1].set_title('Accuracy')\n",
        "\n",
        "plt.tight_layout()"
      ],
      "execution_count": null,
      "outputs": [
        {
          "output_type": "display_data",
          "data": {
            "image/png": "[encoded data removed]",
            "text/plain": [
              "<Figure size 1080x360 with 2 Axes>"
            ]
          },
          "metadata": {
            "tags": [],
            "needs_background": "light"
          }
        }
      ]
    },
    {
      "cell_type": "code",
      "metadata": {
        "id": "A9c_1k17Ggvd",
        "colab": {
          "base_uri": "https://localhost:8080/"
        },
        "outputId": "9eaf0ec7-a7f6-4f6a-9bee-8effb2fb809c"
      },
      "source": [
        "model.save_weights('model_weights.hdf5')\n",
        "# build model of batch 1 for evaluation\n",
        "model1 = build_model(1, 0.5)\n",
        "model1.load_weights('model_weights.hdf5')"
      ],
      "execution_count": null,
      "outputs": [
        {
          "output_type": "stream",
          "text": [
            "WARNING:tensorflow:Layer lstm_2 will not use cuDNN kernel since it doesn't meet the cuDNN kernel criteria. It will use generic GPU kernel as fallback when running on GPU\n",
            "WARNING:tensorflow:Layer lstm_2 will not use cuDNN kernel since it doesn't meet the cuDNN kernel criteria. It will use generic GPU kernel as fallback when running on GPU\n",
            "WARNING:tensorflow:Layer lstm_2 will not use cuDNN kernel since it doesn't meet the cuDNN kernel criteria. It will use generic GPU kernel as fallback when running on GPU\n"
          ],
          "name": "stdout"
        }
      ]
    },
    {
      "cell_type": "code",
      "metadata": {
        "id": "iEIK6rAS1IA8"
      },
      "source": [
        "X_test = tokenizer.texts_to_sequences(test.text)\n",
        "X_test = tf.keras.preprocessing.sequence.pad_sequences(X_test, padding='pre', maxlen=MAX_LEN)\n",
        "test_data = tf.data.Dataset.from_tensor_slices((X_test))\n",
        "test_data = test_data.batch(1)"
      ],
      "execution_count": null,
      "outputs": []
    },
    {
      "cell_type": "code",
      "metadata": {
        "colab": {
          "base_uri": "https://localhost:8080/",
          "height": 71
        },
        "id": "7asH2cQa_M0L",
        "outputId": "4da2e821-8f64-4c64-b3d3-457ac8add101"
      },
      "source": [
        "from google.colab import files\n",
        "test['target']= model1.predict_classes(test_data)\n",
        "test_export = test.loc[:, ['id', 'target']]\n",
        "test_export.to_csv('w2v_blstm.csv', index=False) \n",
        "files.download('w2v_blstm.csv')"
      ],
      "execution_count": null,
      "outputs": [
        {
          "output_type": "stream",
          "text": [
            "/usr/local/lib/python3.6/dist-packages/tensorflow/python/keras/engine/sequential.py:450: UserWarning: `model.predict_classes()` is deprecated and will be removed after 2021-01-01. Please use instead:* `np.argmax(model.predict(x), axis=-1)`,   if your model does multi-class classification   (e.g. if it uses a `softmax` last-layer activation).* `(model.predict(x) > 0.5).astype(\"int32\")`,   if your model does binary classification   (e.g. if it uses a `sigmoid` last-layer activation).\n",
            "  warnings.warn('`model.predict_classes()` is deprecated and '\n"
          ],
          "name": "stderr"
        },
        {
          "output_type": "display_data",
          "data": {
            "application/javascript": [
              "\n",
              "    async function download(id, filename, size) {\n",
              "      if (!google.colab.kernel.accessAllowed) {\n",
              "        return;\n",
              "      }\n",
              "      const div = document.createElement('div');\n",
              "      const label = document.createElement('label');\n",
              "      label.textContent = `Downloading \"${filename}\": `;\n",
              "      div.appendChild(label);\n",
              "      const progress = document.createElement('progress');\n",
              "      progress.max = size;\n",
              "      div.appendChild(progress);\n",
              "      document.body.appendChild(div);\n",
              "\n",
              "      const buffers = [];\n",
              "      let downloaded = 0;\n",
              "\n",
              "      const channel = await google.colab.kernel.comms.open(id);\n",
              "      // Send a message to notify the kernel that we're ready.\n",
              "      channel.send({})\n",
              "\n",
              "      for await (const message of channel.messages) {\n",
              "        // Send a message to notify the kernel that we're ready.\n",
              "        channel.send({})\n",
              "        if (message.buffers) {\n",
              "          for (const buffer of message.buffers) {\n",
              "            buffers.push(buffer);\n",
              "            downloaded += buffer.byteLength;\n",
              "            progress.value = downloaded;\n",
              "          }\n",
              "        }\n",
              "      }\n",
              "      const blob = new Blob(buffers, {type: 'application/binary'});\n",
              "      const a = document.createElement('a');\n",
              "      a.href = window.URL.createObjectURL(blob);\n",
              "      a.download = filename;\n",
              "      div.appendChild(a);\n",
              "      a.click();\n",
              "      div.remove();\n",
              "    }\n",
              "  "
            ],
            "text/plain": [
              "<IPython.core.display.Javascript object>"
            ]
          },
          "metadata": {
            "tags": []
          }
        },
        {
          "output_type": "display_data",
          "data": {
            "application/javascript": [
              "download(\"download_626ad50c-e36c-4f90-a1cc-f329e6600f9e\", \"w2v_blstm.csv\", 22746)"
            ],
            "text/plain": [
              "<IPython.core.display.Javascript object>"
            ]
          },
          "metadata": {
            "tags": []
          }
        }
      ]
    }
  ]
}